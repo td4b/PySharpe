{
 "cells": [
  {
   "cell_type": "code",
   "execution_count": 1,
   "metadata": {},
   "outputs": [],
   "source": [
    "import pandas as pd\n",
    "import matplotlib.pyplot as plt\n",
    "from statsdata import getdata\n",
    "import numpy as np\n",
    "import yfinance as yf "
   ]
  },
  {
   "cell_type": "code",
   "execution_count": 2,
   "metadata": {},
   "outputs": [
    {
     "name": "stdout",
     "output_type": "stream",
     "text": [
      "Downloading Stock Data.\n",
      "[*********************100%***********************]  1 of 1 completed\n",
      "[*********************100%***********************]  1 of 1 completed\n",
      "[*********************100%***********************]  1 of 1 completed\n",
      "[*********************100%***********************]  1 of 1 completed\n",
      "[*********************100%***********************]  1 of 1 completed\n",
      "[*********************100%***********************]  1 of 1 completed\n",
      "[*********************100%***********************]  1 of 1 completed\n",
      "[*********************100%***********************]  1 of 1 completed\n",
      "[*********************100%***********************]  1 of 1 completed\n",
      "[*********************100%***********************]  1 of 1 completed\n",
      "[*********************100%***********************]  1 of 1 completed\n",
      "[*********************100%***********************]  1 of 1 completed\n",
      "[*********************100%***********************]  1 of 1 completed\n",
      "[*********************100%***********************]  1 of 1 completed\n",
      "[*********************100%***********************]  1 of 1 completed\n",
      "[*********************100%***********************]  1 of 1 completed\n",
      "[*********************100%***********************]  1 of 1 completed\n",
      "[*********************100%***********************]  1 of 1 completed\n"
     ]
    }
   ],
   "source": [
    "stocks = {}\n",
    "ports = '''\n",
    "AMD\n",
    "NVDA\n",
    "MSFT\n",
    "AMZN\n",
    "NFLX\n",
    "TWLO\n",
    "ZM\n",
    "V\n",
    "BABA\n",
    "SHOP\n",
    "CRM\n",
    "HQY\n",
    "TDOC\n",
    "MASI\n",
    "PG\n",
    "DOCU\n",
    "PYPL\n",
    "ATVI\n",
    "'''.split('\\n')[1:-1]\n",
    "print(\"Downloading Stock Data.\")\n",
    "for stock in ports:\n",
    "    x = stock\n",
    "    stocks[x] = yf.download(x,'2020-01-01','2020-05-20')"
   ]
  },
  {
   "cell_type": "code",
   "execution_count": 3,
   "metadata": {},
   "outputs": [],
   "source": [
    "stockdata = {}\n",
    "for key in stocks:\n",
    "    stockdata[key] = stocks[key]['Close'].values\n",
    "\n",
    "results = getdata(stockdata)"
   ]
  },
  {
   "cell_type": "code",
   "execution_count": 11,
   "metadata": {},
   "outputs": [],
   "source": [
    "stocks = results[0]\n",
    "weights = results[1]\n",
    "returns = results[2]\n",
    "volume = results[3]\n",
    "sharpe = results[4]\n",
    "\n",
    "dat = {\n",
    "    \"Stocks\": stocks,\n",
    "    \"Weights\": weights,\n",
    "    \"Volume\": volume,\n",
    "    \"Sharpe\": sharpe\n",
    "}\n",
    "df = pd.DataFrame(dat)"
   ]
  },
  {
   "cell_type": "code",
   "execution_count": 19,
   "metadata": {},
   "outputs": [
    {
     "data": {
      "text/plain": [
       "(11597, 1.7256540336996296)"
      ]
     },
     "execution_count": 19,
     "metadata": {},
     "output_type": "execute_result"
    }
   ],
   "source": [
    "df[\"Sharpe\"].idxmax(),df[\"Sharpe\"].max()"
   ]
  },
  {
   "cell_type": "code",
   "execution_count": 26,
   "metadata": {},
   "outputs": [
    {
     "data": {
      "text/plain": [
       "Stocks                     [MASI, SHOP, TWLO, PG, AMD, MSFT]\n",
       "Weights    [0.14251738697409544, 0.2439777741044927, 0.02...\n",
       "Volume                                              0.233099\n",
       "Sharpe                                               1.72565\n",
       "Name: 11597, dtype: object"
      ]
     },
     "execution_count": 26,
     "metadata": {},
     "output_type": "execute_result"
    }
   ],
   "source": [
    "df.iloc[11597]"
   ]
  },
  {
   "cell_type": "code",
   "execution_count": 4,
   "metadata": {},
   "outputs": [
    {
     "data": {
      "text/plain": [
       "(7076, 4.322714846676913)"
      ]
     },
     "execution_count": 4,
     "metadata": {},
     "output_type": "execute_result"
    }
   ],
   "source": [
    "# Has Changed?\n",
    "stocks = results[0]\n",
    "weights = results[1]\n",
    "returns = results[2]\n",
    "volume = results[3]\n",
    "sharpe = results[4]\n",
    "\n",
    "dat = {\n",
    "    \"Stocks\": stocks,\n",
    "    \"Weights\": weights,\n",
    "    \"Volume\": volume,\n",
    "    \"Sharpe\": sharpe\n",
    "}\n",
    "df = pd.DataFrame(dat)\n",
    "df[\"Sharpe\"].idxmax(),df[\"Sharpe\"].max()"
   ]
  },
  {
   "cell_type": "code",
   "execution_count": 5,
   "metadata": {},
   "outputs": [
    {
     "data": {
      "text/plain": [
       "Stocks                     [TWLO, MASI, CRM, ZM, DOCU, TDOC]\n",
       "Weights    [0.03959413291000491, 0.5240023230543962, 0.00...\n",
       "Volume                                              0.371338\n",
       "Sharpe                                               4.32271\n",
       "Name: 7076, dtype: object"
      ]
     },
     "execution_count": 5,
     "metadata": {},
     "output_type": "execute_result"
    }
   ],
   "source": [
    "df.iloc[7076]"
   ]
  },
  {
   "cell_type": "code",
   "execution_count": null,
   "metadata": {},
   "outputs": [],
   "source": []
  }
 ],
 "metadata": {
  "kernelspec": {
   "display_name": "Python 3",
   "language": "python",
   "name": "python3"
  },
  "language_info": {
   "codemirror_mode": {
    "name": "ipython",
    "version": 3
   },
   "file_extension": ".py",
   "mimetype": "text/x-python",
   "name": "python",
   "nbconvert_exporter": "python",
   "pygments_lexer": "ipython3",
   "version": "3.7.7"
  }
 },
 "nbformat": 4,
 "nbformat_minor": 4
}
